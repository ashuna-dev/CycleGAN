{
 "cells": [
  {
   "cell_type": "markdown",
   "metadata": {},
   "source": [
    "# CycleGAN train"
   ]
  },
  {
   "cell_type": "code",
   "execution_count": 2,
   "metadata": {},
   "outputs": [],
   "source": [
    "import os\n",
    "import matplotlib.pyplot as plt\n",
    "\n",
    "from cyclegan import CycleGAN\n",
    "from loader import DataLoader"
   ]
  },
  {
   "cell_type": "code",
   "execution_count": 7,
   "metadata": {},
   "outputs": [],
   "source": [
    "\n",
    "# run params\n",
    "# dowload data from https://www.kaggle.com/datasets/balraj98/apple2orange-dataset?resource=download\n",
    "DATA_NAME = 'apple2orange'\n",
    "\n",
    "RUN_FOLDER = 'archive'\n",
    "\n",
    "if not os.path.exists(RUN_FOLDER):\n",
    "    os.mkdir(RUN_FOLDER)\n",
    "    os.mkdir(os.path.join(RUN_FOLDER, 'viz'))\n",
    "    os.mkdir(os.path.join(RUN_FOLDER, 'images'))\n",
    "    os.mkdir(os.path.join(RUN_FOLDER, 'weights'))\n",
    "\n",
    "mode =  'build' # 'build' # "
   ]
  },
  {
   "cell_type": "markdown",
   "metadata": {},
   "source": [
    "# data"
   ]
  },
  {
   "cell_type": "code",
   "execution_count": 8,
   "metadata": {},
   "outputs": [],
   "source": [
    "IMAGE_SIZE = 128"
   ]
  },
  {
   "cell_type": "code",
   "execution_count": 9,
   "metadata": {},
   "outputs": [],
   "source": [
    "\n",
    "data_loader = DataLoader(dataset_name=DATA_NAME, img_res=(IMAGE_SIZE, IMAGE_SIZE))\n"
   ]
  },
  {
   "cell_type": "markdown",
   "metadata": {},
   "source": [
    "# architecture"
   ]
  },
  {
   "cell_type": "code",
   "execution_count": 10,
   "metadata": {},
   "outputs": [
    {
     "name": "stderr",
     "output_type": "stream",
     "text": [
      "2024-10-08 15:24:56.495336: I tensorflow/core/common_runtime/pluggable_device/pluggable_device_factory.cc:306] Could not identify NUMA node of platform GPU ID 0, defaulting to 0. Your kernel may not have been built with NUMA support.\n",
      "2024-10-08 15:24:56.495418: I tensorflow/core/common_runtime/pluggable_device/pluggable_device_factory.cc:272] Created TensorFlow device (/job:localhost/replica:0/task:0/device:GPU:0 with 0 MB memory) -> physical PluggableDevice (device: 0, name: METAL, pci bus id: <undefined>)\n",
      "/Users/manaskumar/Desktop/ML/lib/python3.11/site-packages/keras/initializers/initializers.py:120: UserWarning: The initializer RandomNormal is unseeded and being called multiple times, which will return identical values each time (even if the initializer is unseeded). Please update your code to provide a seed to the initializer, or avoid using the same initalizer instance more than once.\n",
      "  warnings.warn(\n"
     ]
    },
    {
     "name": "stdout",
     "output_type": "stream",
     "text": [
      "You must install pydot (`pip install pydot`) and install graphviz (see instructions at https://graphviz.gitlab.io/download/) for plot_model to work.\n",
      "You must install pydot (`pip install pydot`) and install graphviz (see instructions at https://graphviz.gitlab.io/download/) for plot_model to work.\n",
      "You must install pydot (`pip install pydot`) and install graphviz (see instructions at https://graphviz.gitlab.io/download/) for plot_model to work.\n",
      "You must install pydot (`pip install pydot`) and install graphviz (see instructions at https://graphviz.gitlab.io/download/) for plot_model to work.\n",
      "You must install pydot (`pip install pydot`) and install graphviz (see instructions at https://graphviz.gitlab.io/download/) for plot_model to work.\n"
     ]
    }
   ],
   "source": [
    "gan = CycleGAN(\n",
    "    input_dim = (IMAGE_SIZE,IMAGE_SIZE,3)\n",
    "    ,learning_rate = 0.0002\n",
    "    , buffer_max_length = 50\n",
    "    , lambda_validation = 1\n",
    "    , lambda_reconstr = 10\n",
    "    , lambda_id = 2\n",
    "    , generator_type = 'unet'\n",
    "    , gen_n_filters = 32\n",
    "    , disc_n_filters = 32\n",
    "    )\n",
    "\n",
    "if mode == 'build':\n",
    "    gan.save(RUN_FOLDER)\n",
    "else:\n",
    "    gan.load_weights(os.path.join(RUN_FOLDER, 'weights/weights.h5'))\n",
    "    \n"
   ]
  },
  {
   "cell_type": "code",
   "execution_count": 11,
   "metadata": {},
   "outputs": [
    {
     "name": "stdout",
     "output_type": "stream",
     "text": [
      "Model: \"model_3\"\n",
      "__________________________________________________________________________________________________\n",
      " Layer (type)                   Output Shape         Param #     Connected to                     \n",
      "==================================================================================================\n",
      " input_4 (InputLayer)           [(None, 128, 128, 3  0           []                               \n",
      "                                )]                                                                \n",
      "                                                                                                  \n",
      " conv2d_18 (Conv2D)             (None, 64, 64, 32)   1568        ['input_4[0][0]']                \n",
      "                                                                                                  \n",
      " instance_normalization_13 (Ins  (None, 64, 64, 32)  0           ['conv2d_18[0][0]']              \n",
      " tanceNormalization)                                                                              \n",
      "                                                                                                  \n",
      " activation_7 (Activation)      (None, 64, 64, 32)   0           ['instance_normalization_13[0][0]\n",
      "                                                                 ']                               \n",
      "                                                                                                  \n",
      " conv2d_19 (Conv2D)             (None, 32, 32, 64)   32832       ['activation_7[0][0]']           \n",
      "                                                                                                  \n",
      " instance_normalization_14 (Ins  (None, 32, 32, 64)  0           ['conv2d_19[0][0]']              \n",
      " tanceNormalization)                                                                              \n",
      "                                                                                                  \n",
      " activation_8 (Activation)      (None, 32, 32, 64)   0           ['instance_normalization_14[0][0]\n",
      "                                                                 ']                               \n",
      "                                                                                                  \n",
      " conv2d_20 (Conv2D)             (None, 16, 16, 128)  131200      ['activation_8[0][0]']           \n",
      "                                                                                                  \n",
      " instance_normalization_15 (Ins  (None, 16, 16, 128)  0          ['conv2d_20[0][0]']              \n",
      " tanceNormalization)                                                                              \n",
      "                                                                                                  \n",
      " activation_9 (Activation)      (None, 16, 16, 128)  0           ['instance_normalization_15[0][0]\n",
      "                                                                 ']                               \n",
      "                                                                                                  \n",
      " conv2d_21 (Conv2D)             (None, 8, 8, 256)    524544      ['activation_9[0][0]']           \n",
      "                                                                                                  \n",
      " instance_normalization_16 (Ins  (None, 8, 8, 256)   0           ['conv2d_21[0][0]']              \n",
      " tanceNormalization)                                                                              \n",
      "                                                                                                  \n",
      " activation_10 (Activation)     (None, 8, 8, 256)    0           ['instance_normalization_16[0][0]\n",
      "                                                                 ']                               \n",
      "                                                                                                  \n",
      " up_sampling2d_4 (UpSampling2D)  (None, 16, 16, 256)  0          ['activation_10[0][0]']          \n",
      "                                                                                                  \n",
      " conv2d_22 (Conv2D)             (None, 16, 16, 128)  524416      ['up_sampling2d_4[0][0]']        \n",
      "                                                                                                  \n",
      " instance_normalization_17 (Ins  (None, 16, 16, 128)  0          ['conv2d_22[0][0]']              \n",
      " tanceNormalization)                                                                              \n",
      "                                                                                                  \n",
      " activation_11 (Activation)     (None, 16, 16, 128)  0           ['instance_normalization_17[0][0]\n",
      "                                                                 ']                               \n",
      "                                                                                                  \n",
      " concatenate_3 (Concatenate)    (None, 16, 16, 256)  0           ['activation_11[0][0]',          \n",
      "                                                                  'activation_9[0][0]']           \n",
      "                                                                                                  \n",
      " up_sampling2d_5 (UpSampling2D)  (None, 32, 32, 256)  0          ['concatenate_3[0][0]']          \n",
      "                                                                                                  \n",
      " conv2d_23 (Conv2D)             (None, 32, 32, 64)   262208      ['up_sampling2d_5[0][0]']        \n",
      "                                                                                                  \n",
      " instance_normalization_18 (Ins  (None, 32, 32, 64)  0           ['conv2d_23[0][0]']              \n",
      " tanceNormalization)                                                                              \n",
      "                                                                                                  \n",
      " activation_12 (Activation)     (None, 32, 32, 64)   0           ['instance_normalization_18[0][0]\n",
      "                                                                 ']                               \n",
      "                                                                                                  \n",
      " concatenate_4 (Concatenate)    (None, 32, 32, 128)  0           ['activation_12[0][0]',          \n",
      "                                                                  'activation_8[0][0]']           \n",
      "                                                                                                  \n",
      " up_sampling2d_6 (UpSampling2D)  (None, 64, 64, 128)  0          ['concatenate_4[0][0]']          \n",
      "                                                                                                  \n",
      " conv2d_24 (Conv2D)             (None, 64, 64, 32)   65568       ['up_sampling2d_6[0][0]']        \n",
      "                                                                                                  \n",
      " instance_normalization_19 (Ins  (None, 64, 64, 32)  0           ['conv2d_24[0][0]']              \n",
      " tanceNormalization)                                                                              \n",
      "                                                                                                  \n",
      " activation_13 (Activation)     (None, 64, 64, 32)   0           ['instance_normalization_19[0][0]\n",
      "                                                                 ']                               \n",
      "                                                                                                  \n",
      " concatenate_5 (Concatenate)    (None, 64, 64, 64)   0           ['activation_13[0][0]',          \n",
      "                                                                  'activation_7[0][0]']           \n",
      "                                                                                                  \n",
      " up_sampling2d_7 (UpSampling2D)  (None, 128, 128, 64  0          ['concatenate_5[0][0]']          \n",
      "                                )                                                                 \n",
      "                                                                                                  \n",
      " conv2d_25 (Conv2D)             (None, 128, 128, 3)  3075        ['up_sampling2d_7[0][0]']        \n",
      "                                                                                                  \n",
      "==================================================================================================\n",
      "Total params: 1,545,411\n",
      "Trainable params: 1,545,411\n",
      "Non-trainable params: 0\n",
      "__________________________________________________________________________________________________\n"
     ]
    }
   ],
   "source": [
    "gan.g_BA.summary()"
   ]
  },
  {
   "cell_type": "code",
   "execution_count": 12,
   "metadata": {},
   "outputs": [
    {
     "name": "stdout",
     "output_type": "stream",
     "text": [
      "Model: \"model_2\"\n",
      "__________________________________________________________________________________________________\n",
      " Layer (type)                   Output Shape         Param #     Connected to                     \n",
      "==================================================================================================\n",
      " input_3 (InputLayer)           [(None, 128, 128, 3  0           []                               \n",
      "                                )]                                                                \n",
      "                                                                                                  \n",
      " conv2d_10 (Conv2D)             (None, 64, 64, 32)   1568        ['input_3[0][0]']                \n",
      "                                                                                                  \n",
      " instance_normalization_6 (Inst  (None, 64, 64, 32)  0           ['conv2d_10[0][0]']              \n",
      " anceNormalization)                                                                               \n",
      "                                                                                                  \n",
      " activation (Activation)        (None, 64, 64, 32)   0           ['instance_normalization_6[0][0]'\n",
      "                                                                 ]                                \n",
      "                                                                                                  \n",
      " conv2d_11 (Conv2D)             (None, 32, 32, 64)   32832       ['activation[0][0]']             \n",
      "                                                                                                  \n",
      " instance_normalization_7 (Inst  (None, 32, 32, 64)  0           ['conv2d_11[0][0]']              \n",
      " anceNormalization)                                                                               \n",
      "                                                                                                  \n",
      " activation_1 (Activation)      (None, 32, 32, 64)   0           ['instance_normalization_7[0][0]'\n",
      "                                                                 ]                                \n",
      "                                                                                                  \n",
      " conv2d_12 (Conv2D)             (None, 16, 16, 128)  131200      ['activation_1[0][0]']           \n",
      "                                                                                                  \n",
      " instance_normalization_8 (Inst  (None, 16, 16, 128)  0          ['conv2d_12[0][0]']              \n",
      " anceNormalization)                                                                               \n",
      "                                                                                                  \n",
      " activation_2 (Activation)      (None, 16, 16, 128)  0           ['instance_normalization_8[0][0]'\n",
      "                                                                 ]                                \n",
      "                                                                                                  \n",
      " conv2d_13 (Conv2D)             (None, 8, 8, 256)    524544      ['activation_2[0][0]']           \n",
      "                                                                                                  \n",
      " instance_normalization_9 (Inst  (None, 8, 8, 256)   0           ['conv2d_13[0][0]']              \n",
      " anceNormalization)                                                                               \n",
      "                                                                                                  \n",
      " activation_3 (Activation)      (None, 8, 8, 256)    0           ['instance_normalization_9[0][0]'\n",
      "                                                                 ]                                \n",
      "                                                                                                  \n",
      " up_sampling2d (UpSampling2D)   (None, 16, 16, 256)  0           ['activation_3[0][0]']           \n",
      "                                                                                                  \n",
      " conv2d_14 (Conv2D)             (None, 16, 16, 128)  524416      ['up_sampling2d[0][0]']          \n",
      "                                                                                                  \n",
      " instance_normalization_10 (Ins  (None, 16, 16, 128)  0          ['conv2d_14[0][0]']              \n",
      " tanceNormalization)                                                                              \n",
      "                                                                                                  \n",
      " activation_4 (Activation)      (None, 16, 16, 128)  0           ['instance_normalization_10[0][0]\n",
      "                                                                 ']                               \n",
      "                                                                                                  \n",
      " concatenate (Concatenate)      (None, 16, 16, 256)  0           ['activation_4[0][0]',           \n",
      "                                                                  'activation_2[0][0]']           \n",
      "                                                                                                  \n",
      " up_sampling2d_1 (UpSampling2D)  (None, 32, 32, 256)  0          ['concatenate[0][0]']            \n",
      "                                                                                                  \n",
      " conv2d_15 (Conv2D)             (None, 32, 32, 64)   262208      ['up_sampling2d_1[0][0]']        \n",
      "                                                                                                  \n",
      " instance_normalization_11 (Ins  (None, 32, 32, 64)  0           ['conv2d_15[0][0]']              \n",
      " tanceNormalization)                                                                              \n",
      "                                                                                                  \n",
      " activation_5 (Activation)      (None, 32, 32, 64)   0           ['instance_normalization_11[0][0]\n",
      "                                                                 ']                               \n",
      "                                                                                                  \n",
      " concatenate_1 (Concatenate)    (None, 32, 32, 128)  0           ['activation_5[0][0]',           \n",
      "                                                                  'activation_1[0][0]']           \n",
      "                                                                                                  \n",
      " up_sampling2d_2 (UpSampling2D)  (None, 64, 64, 128)  0          ['concatenate_1[0][0]']          \n",
      "                                                                                                  \n",
      " conv2d_16 (Conv2D)             (None, 64, 64, 32)   65568       ['up_sampling2d_2[0][0]']        \n",
      "                                                                                                  \n",
      " instance_normalization_12 (Ins  (None, 64, 64, 32)  0           ['conv2d_16[0][0]']              \n",
      " tanceNormalization)                                                                              \n",
      "                                                                                                  \n",
      " activation_6 (Activation)      (None, 64, 64, 32)   0           ['instance_normalization_12[0][0]\n",
      "                                                                 ']                               \n",
      "                                                                                                  \n",
      " concatenate_2 (Concatenate)    (None, 64, 64, 64)   0           ['activation_6[0][0]',           \n",
      "                                                                  'activation[0][0]']             \n",
      "                                                                                                  \n",
      " up_sampling2d_3 (UpSampling2D)  (None, 128, 128, 64  0          ['concatenate_2[0][0]']          \n",
      "                                )                                                                 \n",
      "                                                                                                  \n",
      " conv2d_17 (Conv2D)             (None, 128, 128, 3)  3075        ['up_sampling2d_3[0][0]']        \n",
      "                                                                                                  \n",
      "==================================================================================================\n",
      "Total params: 1,545,411\n",
      "Trainable params: 1,545,411\n",
      "Non-trainable params: 0\n",
      "__________________________________________________________________________________________________\n"
     ]
    }
   ],
   "source": [
    "gan.g_AB.summary()"
   ]
  },
  {
   "cell_type": "code",
   "execution_count": 13,
   "metadata": {},
   "outputs": [
    {
     "name": "stdout",
     "output_type": "stream",
     "text": [
      "Model: \"model\"\n",
      "_________________________________________________________________\n",
      " Layer (type)                Output Shape              Param #   \n",
      "=================================================================\n",
      " input_1 (InputLayer)        [(None, 128, 128, 3)]     0         \n",
      "                                                                 \n",
      " conv2d (Conv2D)             (None, 64, 64, 32)        1568      \n",
      "                                                                 \n",
      " leaky_re_lu (LeakyReLU)     (None, 64, 64, 32)        0         \n",
      "                                                                 \n",
      " conv2d_1 (Conv2D)           (None, 32, 32, 64)        32832     \n",
      "                                                                 \n",
      " instance_normalization (Ins  (None, 32, 32, 64)       0         \n",
      " tanceNormalization)                                             \n",
      "                                                                 \n",
      " leaky_re_lu_1 (LeakyReLU)   (None, 32, 32, 64)        0         \n",
      "                                                                 \n",
      " conv2d_2 (Conv2D)           (None, 16, 16, 128)       131200    \n",
      "                                                                 \n",
      " instance_normalization_1 (I  (None, 16, 16, 128)      0         \n",
      " nstanceNormalization)                                           \n",
      "                                                                 \n",
      " leaky_re_lu_2 (LeakyReLU)   (None, 16, 16, 128)       0         \n",
      "                                                                 \n",
      " conv2d_3 (Conv2D)           (None, 16, 16, 256)       524544    \n",
      "                                                                 \n",
      " instance_normalization_2 (I  (None, 16, 16, 256)      0         \n",
      " nstanceNormalization)                                           \n",
      "                                                                 \n",
      " leaky_re_lu_3 (LeakyReLU)   (None, 16, 16, 256)       0         \n",
      "                                                                 \n",
      " conv2d_4 (Conv2D)           (None, 16, 16, 1)         4097      \n",
      "                                                                 \n",
      "=================================================================\n",
      "Total params: 694,241\n",
      "Trainable params: 694,241\n",
      "Non-trainable params: 0\n",
      "_________________________________________________________________\n"
     ]
    }
   ],
   "source": [
    "gan.d_A.summary()"
   ]
  },
  {
   "cell_type": "code",
   "execution_count": 14,
   "metadata": {},
   "outputs": [
    {
     "name": "stdout",
     "output_type": "stream",
     "text": [
      "Model: \"model_1\"\n",
      "_________________________________________________________________\n",
      " Layer (type)                Output Shape              Param #   \n",
      "=================================================================\n",
      " input_2 (InputLayer)        [(None, 128, 128, 3)]     0         \n",
      "                                                                 \n",
      " conv2d_5 (Conv2D)           (None, 64, 64, 32)        1568      \n",
      "                                                                 \n",
      " leaky_re_lu_4 (LeakyReLU)   (None, 64, 64, 32)        0         \n",
      "                                                                 \n",
      " conv2d_6 (Conv2D)           (None, 32, 32, 64)        32832     \n",
      "                                                                 \n",
      " instance_normalization_3 (I  (None, 32, 32, 64)       0         \n",
      " nstanceNormalization)                                           \n",
      "                                                                 \n",
      " leaky_re_lu_5 (LeakyReLU)   (None, 32, 32, 64)        0         \n",
      "                                                                 \n",
      " conv2d_7 (Conv2D)           (None, 16, 16, 128)       131200    \n",
      "                                                                 \n",
      " instance_normalization_4 (I  (None, 16, 16, 128)      0         \n",
      " nstanceNormalization)                                           \n",
      "                                                                 \n",
      " leaky_re_lu_6 (LeakyReLU)   (None, 16, 16, 128)       0         \n",
      "                                                                 \n",
      " conv2d_8 (Conv2D)           (None, 16, 16, 256)       524544    \n",
      "                                                                 \n",
      " instance_normalization_5 (I  (None, 16, 16, 256)      0         \n",
      " nstanceNormalization)                                           \n",
      "                                                                 \n",
      " leaky_re_lu_7 (LeakyReLU)   (None, 16, 16, 256)       0         \n",
      "                                                                 \n",
      " conv2d_9 (Conv2D)           (None, 16, 16, 1)         4097      \n",
      "                                                                 \n",
      "=================================================================\n",
      "Total params: 694,241\n",
      "Trainable params: 694,241\n",
      "Non-trainable params: 0\n",
      "_________________________________________________________________\n"
     ]
    }
   ],
   "source": [
    "gan.d_B.summary()"
   ]
  },
  {
   "cell_type": "markdown",
   "metadata": {},
   "source": [
    "# train"
   ]
  },
  {
   "cell_type": "code",
   "execution_count": 15,
   "metadata": {},
   "outputs": [],
   "source": [
    "BATCH_SIZE = 1\n",
    "EPOCHS = 200\n",
    "PRINT_EVERY_N_BATCHES = 10\n",
    "\n",
    "TEST_A_FILE = 'n07740461_14740.jpg'\n",
    "TEST_B_FILE = 'n07749192_4241.jpg'"
   ]
  },
  {
   "cell_type": "code",
   "execution_count": 16,
   "metadata": {
    "scrolled": false
   },
   "outputs": [],
   "source": [
    "gan.train(data_loader\n",
    "        , run_folder = RUN_FOLDER\n",
    "        , epochs=EPOCHS\n",
    "        , test_A_file = TEST_A_FILE\n",
    "        , test_B_file = TEST_B_FILE\n",
    "        , batch_size=BATCH_SIZE\n",
    "        , sample_interval=PRINT_EVERY_N_BATCHES)\n",
    "        "
   ]
  },
  {
   "cell_type": "markdown",
   "metadata": {},
   "source": [
    "# loss"
   ]
  },
  {
   "cell_type": "code",
   "execution_count": 17,
   "metadata": {},
   "outputs": [
    {
     "data": {
      "image/png": "[encoded data removed]",
      "text/plain": [
       "<Figure size 2000x1000 with 1 Axes>"
      ]
     },
     "metadata": {},
     "output_type": "display_data"
    }
   ],
   "source": [
    "fig = plt.figure(figsize=(20,10))\n",
    "\n",
    "plt.plot([x[1] for x in gan.g_losses], color='green', linewidth=0.1) #DISCRIM LOSS\n",
    "# plt.plot([x[2] for x in gan.g_losses], color='orange', linewidth=0.1)\n",
    "plt.plot([x[3] for x in gan.g_losses], color='blue', linewidth=0.1) #CYCLE LOSS\n",
    "# plt.plot([x[4] for x in gan.g_losses], color='orange', linewidth=0.25)\n",
    "plt.plot([x[5] for x in gan.g_losses], color='red', linewidth=0.25) #ID LOSS\n",
    "# plt.plot([x[6] for x in gan.g_losses], color='orange', linewidth=0.25)\n",
    "\n",
    "plt.plot([x[0] for x in gan.g_losses], color='black', linewidth=0.25)\n",
    "\n",
    "# plt.plot([x[0] for x in gan.d_losses], color='black', linewidth=0.25)\n",
    "\n",
    "plt.xlabel('batch', fontsize=18)\n",
    "plt.ylabel('loss', fontsize=16)\n",
    "\n",
    "plt.ylim(0, 5)\n",
    "\n",
    "plt.show()"
   ]
  },
  {
   "cell_type": "code",
   "execution_count": null,
   "metadata": {},
   "outputs": [],
   "source": []
  }
 ],
 "metadata": {
  "kernelspec": {
   "display_name": "ML",
   "language": "python",
   "name": "python3"
  },
  "language_info": {
   "codemirror_mode": {
    "name": "ipython",
    "version": 3
   },
   "file_extension": ".py",
   "mimetype": "text/x-python",
   "name": "python",
   "nbconvert_exporter": "python",
   "pygments_lexer": "ipython3",
   "version": "3.11.2"
  }
 },
 "nbformat": 4,
 "nbformat_minor": 2
}
